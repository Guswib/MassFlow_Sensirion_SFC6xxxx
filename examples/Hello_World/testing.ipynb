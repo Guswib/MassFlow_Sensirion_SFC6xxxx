{
 "cells": [
  {
   "cell_type": "code",
   "execution_count": 11,
   "metadata": {},
   "outputs": [
    {
     "name": "stdout",
     "output_type": "stream",
     "text": [
      "\n",
      "810 in hex = 0x32a\n",
      "42 in hex = 0x2a\n",
      "213 in hex = 0xd5\n"
     ]
    }
   ],
   "source": [
    "print()\n",
    "\n",
    "number =0x08+0x04+0xB9+0xCC+0xCC+0xCD\n",
    "print(number, 'in hex =', hex(number))\n",
    "num2 = number  & 0xFF\n",
    "print(num2, 'in hex =', hex(num2))\n",
    "num3 = ~num2+256\n",
    "print(num3, 'in hex =', hex(num3))"
   ]
  },
  {
   "cell_type": "code",
   "execution_count": 12,
   "metadata": {},
   "outputs": [
    {
     "name": "stdout",
     "output_type": "stream",
     "text": [
      "12 in hex = 0xc\n",
      "12 in hex = 0xc\n",
      "243 in hex = 0xf3\n"
     ]
    }
   ],
   "source": [
    "\n",
    "number =0x08+0x04\n",
    "print(number, 'in hex =', hex(number))\n",
    "num2 = number  & 0xFF\n",
    "print(num2, 'in hex =', hex(num2))\n",
    "num3 = ~num2+256\n",
    "print(num3, 'in hex =', hex(num3))"
   ]
  },
  {
   "cell_type": "code",
   "execution_count": 14,
   "metadata": {},
   "outputs": [
    {
     "name": "stdout",
     "output_type": "stream",
     "text": [
      "683 in hex = 0x2ab\n",
      "171 in hex = 0xab\n",
      "84 in hex = 0x54\n"
     ]
    }
   ],
   "source": [
    "number =0x08+0x04+0xBA+0x4C+0xCC+0xCD\n",
    "print(number, 'in hex =', hex(number))\n",
    "num2 = number  & 0xFF\n",
    "print(num2, 'in hex =', hex(num2))\n",
    "num3 = ~num2+256\n",
    "print(num3, 'in hex =', hex(num3))"
   ]
  }
 ],
 "metadata": {
  "kernelspec": {
   "display_name": "Python 3",
   "language": "python",
   "name": "python3"
  },
  "language_info": {
   "codemirror_mode": {
    "name": "ipython",
    "version": 3
   },
   "file_extension": ".py",
   "mimetype": "text/x-python",
   "name": "python",
   "nbconvert_exporter": "python",
   "pygments_lexer": "ipython3",
   "version": "3.11.5"
  }
 },
 "nbformat": 4,
 "nbformat_minor": 2
}

{
 "cells": [
  {
   "cell_type": "code",
   "execution_count": 14,
   "metadata": {},
   "outputs": [
    {
     "name": "stdout",
     "output_type": "stream",
     "text": [
      "254 in hex = 0xfe\n",
      "509 in hex = 0x1fd\n",
      "758 in hex = 0x2f6\n",
      "758 in hex = 0x2f6\n",
      "265 in hex = 0x109\n",
      "2 in hex = 0x2\n"
     ]
    }
   ],
   "source": [
    "number =[0xFE,0xFF,0xF9,0]\n",
    "tot = 0\n",
    "for i in number:\n",
    "    tot=tot+i\n",
    "    print(tot, 'in hex =', hex(tot))\n",
    "num3 = ~tot+1024\n",
    "print(num3, 'in hex =', hex(num3))\n",
    "num4 =~0xFD +256\n",
    "print(num4, 'in hex =', hex(num4))"
   ]
  },
  {
   "cell_type": "code",
   "execution_count": 4,
   "metadata": {},
   "outputs": [
    {
     "name": "stdout",
     "output_type": "stream",
     "text": [
      "8 in hex = 0x8\n",
      "9 in hex = 0x9\n",
      "10 in hex = 0xa\n",
      "245 in hex = 0xf5\n"
     ]
    }
   ],
   "source": [
    "number =[0x08,0x01,0x01]\n",
    "tot = 0\n",
    "for i in number:\n",
    "    tot=tot+i\n",
    "    print(tot, 'in hex =', hex(tot))\n",
    "num3 = ~tot+256\n",
    "print(num3, 'in hex =', hex(num3))"
   ]
  },
  {
   "cell_type": "code",
   "execution_count": 2,
   "metadata": {},
   "outputs": [
    {
     "name": "stdout",
     "output_type": "stream",
     "text": [
      "8 in hex = 0x8\n",
      "12 in hex = 0xc\n",
      "197 in hex = 0xc5\n",
      "401 in hex = 0x191\n",
      "605 in hex = 0x25d\n",
      "810 in hex = 0x32a\n"
     ]
    }
   ],
   "source": [
    "number =[0x08,0x04,0xB9,0xCC,0xCC,0xCD]\n",
    "tot = 0\n",
    "for i in number:\n",
    "    tot=tot+i\n",
    "    print(tot, 'in hex =', hex(tot))"
   ]
  },
  {
   "cell_type": "code",
   "execution_count": 11,
   "metadata": {},
   "outputs": [
    {
     "name": "stdout",
     "output_type": "stream",
     "text": [
      "\n",
      "810 in hex = 0x32a\n",
      "42 in hex = 0x2a\n",
      "213 in hex = 0xd5\n"
     ]
    }
   ],
   "source": [
    "print()\n",
    "\n",
    "number =0x08+0x04+0xB9+0xCC+0xCC+0xCD\n",
    "print(number, 'in hex =', hex(number))\n",
    "num2 = number  & 0xFF\n",
    "print(num2, 'in hex =', hex(num2))\n",
    "num3 = ~num2+256\n",
    "print(num3, 'in hex =', hex(num3))"
   ]
  },
  {
   "cell_type": "code",
   "execution_count": 12,
   "metadata": {},
   "outputs": [
    {
     "name": "stdout",
     "output_type": "stream",
     "text": [
      "12 in hex = 0xc\n",
      "12 in hex = 0xc\n",
      "243 in hex = 0xf3\n"
     ]
    }
   ],
   "source": [
    "\n",
    "number =0x08+0x04\n",
    "print(number, 'in hex =', hex(number))\n",
    "num2 = number  & 0xFF\n",
    "print(num2, 'in hex =', hex(num2))\n",
    "num3 = ~num2+256\n",
    "print(num3, 'in hex =', hex(num3))"
   ]
  },
  {
   "cell_type": "code",
   "execution_count": 1,
   "metadata": {},
   "outputs": [
    {
     "name": "stdout",
     "output_type": "stream",
     "text": [
      "683 in hex = 0x2ab\n",
      "171 in hex = 0xab\n",
      "84 in hex = 0x54\n"
     ]
    }
   ],
   "source": [
    "number =0x08+0x04+0xBA+0x4C+0xCC+0xCD\n",
    "print(number, 'in hex =', hex(number))\n",
    "num2 = number  & 0xFF\n",
    "print(num2, 'in hex =', hex(num2))\n",
    "num3 = ~num2+256\n",
    "print(num3, 'in hex =', hex(num3))"
   ]
  }
 ],
 "metadata": {
  "kernelspec": {
   "display_name": "Python 3",
   "language": "python",
   "name": "python3"
  },
  "language_info": {
   "codemirror_mode": {
    "name": "ipython",
    "version": 3
   },
   "file_extension": ".py",
   "mimetype": "text/x-python",
   "name": "python",
   "nbconvert_exporter": "python",
   "pygments_lexer": "ipython3",
   "version": "3.11.5"
  }
 },
 "nbformat": 4,
 "nbformat_minor": 2
}
